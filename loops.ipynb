{
 "cells": [
  {
   "cell_type": "code",
   "execution_count": 3,
   "id": "d474061a",
   "metadata": {},
   "outputs": [
    {
     "name": "stdout",
     "output_type": "stream",
     "text": [
      "Number: 0\n",
      "Number: 1\n",
      "Number: 2\n",
      "Number: 3\n",
      "Number: 4\n",
      "Number: 5\n",
      "Number: 6\n",
      "Number: 7\n",
      "Number: 8\n",
      "awesome\n"
     ]
    }
   ],
   "source": [
    "count =0\n",
    "while count<9:\n",
    "    print(\"Number:\",count)\n",
    "    count=count+1\n",
    "    \n",
    "print(\"awesome\")"
   ]
  },
  {
   "cell_type": "code",
   "execution_count": 4,
   "id": "f77f8b26",
   "metadata": {},
   "outputs": [],
   "source": [
    "#used in a guessing game ie we dont know how many iterations are required"
   ]
  },
  {
   "cell_type": "code",
   "execution_count": 7,
   "id": "7377110c",
   "metadata": {},
   "outputs": [
    {
     "name": "stdout",
     "output_type": "stream",
     "text": [
      "first car: lorry\n",
      "first car: matatu\n",
      "first car: bus\n",
      "lovely\n"
     ]
    }
   ],
   "source": [
    "#for loop used when you know the number of iterations required\n",
    "# used in calculating factorial\n",
    "cars =['lorry','matatu','bus']\n",
    "\n",
    "for car in cars:\n",
    "    print(\"first car:\",car)\n",
    "    \n",
    "print(\"lovely\")"
   ]
  },
  {
   "cell_type": "code",
   "execution_count": null,
   "id": "6f1973e6",
   "metadata": {},
   "outputs": [],
   "source": [
    "#NESTED LOOPS- allows us to use a loop inside another loop eg for loop inside a for loop or a while lop inside a for loop\n",
    "# eg a code to simulate the bank ATM-nested while\n",
    "# code of pythegorous numbers betweeen 1-20...nested for\n",
    "#bulk reservations -for loop inside a while loop\n"
   ]
  }
 ],
 "metadata": {
  "kernelspec": {
   "display_name": "Python 3 (ipykernel)",
   "language": "python",
   "name": "python3"
  },
  "language_info": {
   "codemirror_mode": {
    "name": "ipython",
    "version": 3
   },
   "file_extension": ".py",
   "mimetype": "text/x-python",
   "name": "python",
   "nbconvert_exporter": "python",
   "pygments_lexer": "ipython3",
   "version": "3.9.12"
  }
 },
 "nbformat": 4,
 "nbformat_minor": 5
}
